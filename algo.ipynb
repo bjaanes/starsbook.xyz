{
 "cells": [
  {
   "cell_type": "code",
   "execution_count": 3,
   "id": "95dae553-292d-468d-aa6a-2a8f31766c3e",
   "metadata": {},
   "outputs": [],
   "source": [
    "import json"
   ]
  },
  {
   "cell_type": "code",
   "execution_count": 7,
   "id": "0c176f79-4984-4c51-b3e4-bd207d464e8c",
   "metadata": {},
   "outputs": [],
   "source": [
    "with open(\"./bucket-assets/multiScape/min_project.json\") as f:\n",
    "    data = json.load(f)\n",
    "    \n",
    "name = data['name']\n",
    "numberOfNfts = data['numberOfNfts']\n",
    "mintPrice = data['mintPrice']\n",
    "attributesToIgnoreForRarity = data['attributesToIgnoreForRarity']"
   ]
  },
  {
   "cell_type": "code",
   "execution_count": 12,
   "id": "d421fb65-8311-4b19-9b7b-044d02a2c935",
   "metadata": {},
   "outputs": [],
   "source": [
    "with open(\"./bucket-assets/multiScape/project.json\") as f:\n",
    "    p = json.load(f)\n",
    "    \n",
    "nfts = p['nfts']\n",
    "lowestScore = p['lowestScore']\n",
    "higestScore = p['highestScore']"
   ]
  },
  {
   "cell_type": "code",
   "execution_count": 15,
   "id": "b3969fc0-c9ba-4213-a8db-dce3993da865",
   "metadata": {},
   "outputs": [
    {
     "ename": "NameError",
     "evalue": "name 'rank' is not defined",
     "output_type": "error",
     "traceback": [
      "\u001b[0;31m---------------------------------------------------------------------------\u001b[0m",
      "\u001b[0;31mNameError\u001b[0m                                 Traceback (most recent call last)",
      "Input \u001b[0;32mIn [15]\u001b[0m, in \u001b[0;36m<cell line: 6>\u001b[0;34m()\u001b[0m\n\u001b[1;32m      3\u001b[0m x \u001b[38;5;241m=\u001b[39m \u001b[38;5;28mlist\u001b[39m(\u001b[38;5;28mrange\u001b[39m(\u001b[38;5;241m1\u001b[39m, numberOfNfts))\n\u001b[1;32m      4\u001b[0m y \u001b[38;5;241m=\u001b[39m []\n\u001b[0;32m----> 6\u001b[0m sortedNfts \u001b[38;5;241m=\u001b[39m \u001b[38;5;28msorted\u001b[39m(nfts, key\u001b[38;5;241m=\u001b[39m\u001b[43mrank\u001b[49m)\n\u001b[1;32m      8\u001b[0m \u001b[38;5;28;01mfor\u001b[39;00m nft \u001b[38;5;129;01min\u001b[39;00m nfts:\n\u001b[1;32m      9\u001b[0m     rarityScore \u001b[38;5;241m=\u001b[39m nft[\u001b[38;5;124m'\u001b[39m\u001b[38;5;124mrarityScore\u001b[39m\u001b[38;5;124m'\u001b[39m]\n",
      "\u001b[0;31mNameError\u001b[0m: name 'rank' is not defined"
     ]
    }
   ],
   "source": [
    "%matplotlib widget\n",
    "\n",
    "x = list(range(1, numberOfNfts))\n",
    "y = []\n",
    "\n",
    "sortedNfts = sorted(nfts, key=rank)\n",
    "\n",
    "for nft in nfts:\n",
    "    rarityScore = nft['rarityScore']\n",
    "    KRV = mintPrice * (lowestScore/numberOfNfts)/(rarityScore/numberOfNfts)\n",
    "    y.append(KRV)"
   ]
  },
  {
   "cell_type": "code",
   "execution_count": null,
   "id": "dd7d4ea5-f774-403d-bab0-84ed91adf5a9",
   "metadata": {},
   "outputs": [],
   "source": []
  }
 ],
 "metadata": {
  "kernelspec": {
   "display_name": "Python 3 (ipykernel)",
   "language": "python",
   "name": "python3"
  },
  "language_info": {
   "codemirror_mode": {
    "name": "ipython",
    "version": 3
   },
   "file_extension": ".py",
   "mimetype": "text/x-python",
   "name": "python",
   "nbconvert_exporter": "python",
   "pygments_lexer": "ipython3",
   "version": "3.9.7"
  }
 },
 "nbformat": 4,
 "nbformat_minor": 5
}
